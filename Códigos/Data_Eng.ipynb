{
 "cells": [
  {
   "cell_type": "markdown",
   "metadata": {},
   "source": [
    "## Ingeniería de Datos \n",
    "### Primeros pasos al desarrollo de Big Data\n",
    "\n",
    "Docente :[Daniel Jiménez](www.danieljimenezm.com)"
   ]
  },
  {
   "cell_type": "markdown",
   "metadata": {},
   "source": [
    "![](https://static.platzi.com/media/user_upload/Data%20Engeneers-c3377b07-4dbf-42b0-bad1-5dd57f2dde08.jpg)"
   ]
  },
  {
   "cell_type": "code",
   "execution_count": 2,
   "metadata": {},
   "outputs": [
    {
     "name": "stdout",
     "output_type": "stream",
     "text": [
      "La versión de Python es 3.7.6 (default, Jan  8 2020, 13:42:34) \n",
      "[Clang 4.0.1 (tags/RELEASE_401/final)]\n"
     ]
    }
   ],
   "source": [
    "## Revisando la versión instalada de Python\n",
    "import sys\n",
    "print('La versión de Python es',sys.version)"
   ]
  },
  {
   "cell_type": "code",
   "execution_count": 19,
   "metadata": {},
   "outputs": [],
   "source": [
    "## Llamando algunas librerías\n",
    "import pandas as pd\n",
    "import numpy as np\n",
    "from datetime import datetime"
   ]
  },
  {
   "cell_type": "markdown",
   "metadata": {},
   "source": [
    "## Python como calculadora"
   ]
  },
  {
   "cell_type": "code",
   "execution_count": 5,
   "metadata": {},
   "outputs": [
    {
     "data": {
      "text/plain": [
       "6"
      ]
     },
     "execution_count": 5,
     "metadata": {},
     "output_type": "execute_result"
    }
   ],
   "source": [
    "3+3"
   ]
  },
  {
   "cell_type": "code",
   "execution_count": 6,
   "metadata": {},
   "outputs": [
    {
     "data": {
      "text/plain": [
       "729"
      ]
     },
     "execution_count": 6,
     "metadata": {},
     "output_type": "execute_result"
    }
   ],
   "source": [
    "3**6"
   ]
  },
  {
   "cell_type": "markdown",
   "metadata": {},
   "source": [
    "Para algunas operaciones matemáticas no es posible trabajar de manera nativa, por lo cual toca llamar a la librería math"
   ]
  },
  {
   "cell_type": "code",
   "execution_count": 7,
   "metadata": {},
   "outputs": [],
   "source": [
    "import math as mt"
   ]
  },
  {
   "cell_type": "code",
   "execution_count": 8,
   "metadata": {},
   "outputs": [
    {
     "name": "stdout",
     "output_type": "stream",
     "text": [
      "la raíz cuadrada de a es  9.0\n"
     ]
    }
   ],
   "source": [
    "a = 81\n",
    "print(\"la raíz cuadrada de a es \",mt.sqrt(a))"
   ]
  },
  {
   "cell_type": "markdown",
   "metadata": {},
   "source": [
    "Ud, puede jugar un poco a diseñar un programa de la siguiente manera:"
   ]
  },
  {
   "cell_type": "code",
   "execution_count": 11,
   "metadata": {},
   "outputs": [
    {
     "name": "stdout",
     "output_type": "stream",
     "text": [
      "El área es de 314.1592653589793\n"
     ]
    }
   ],
   "source": [
    "radio = 10\n",
    "phi = mt.pi\n",
    "area = phi * radio **2\n",
    "print(\"El área es de\", area)"
   ]
  },
  {
   "cell_type": "markdown",
   "metadata": {},
   "source": [
    "### Datos Primitivos"
   ]
  },
  {
   "cell_type": "code",
   "execution_count": 22,
   "metadata": {},
   "outputs": [
    {
     "name": "stdout",
     "output_type": "stream",
     "text": [
      "--------------------------------\n",
      "El entero es 42\n",
      "--------------------------------\n",
      "El número flotante es 3.141592653589793\n",
      "--------------------------------\n",
      "El booleano es  False\n",
      "--------------------------------\n",
      "La fecha es  2021-02-28 21:16:43.727639\n",
      "--------------------------------\n"
     ]
    }
   ],
   "source": [
    "print(\"-\"*32)\n",
    "integer = 42\n",
    "print(\"El entero es\",integer)\n",
    "print(\"-\"*32)\n",
    "flotante = mt.pi\n",
    "print(\"El número flotante es\", flotante)\n",
    "print(\"-\"*32)\n",
    "booleano = False\n",
    "print(\"El booleano es \",booleano)\n",
    "print(\"-\"*32)\n",
    "hoy = datetime.now()\n",
    "print(\"La fecha es \", hoy)\n",
    "print(\"-\"*32)\n",
    "string = \"Hola, no me se tu nombre, pero imagina que esta acá\""
   ]
  },
  {
   "cell_type": "markdown",
   "metadata": {},
   "source": [
    "## Listas en Python"
   ]
  },
  {
   "cell_type": "code",
   "execution_count": 23,
   "metadata": {},
   "outputs": [],
   "source": [
    "# La siguiente es la estructura de una lista\n",
    "\n",
    "marcas_de_carro = [\"Mazda\",\"BMW\",\"Chevrolet\",\"wolsvagen\"]"
   ]
  },
  {
   "cell_type": "code",
   "execution_count": 24,
   "metadata": {},
   "outputs": [
    {
     "data": {
      "text/plain": [
       "'Mazda'"
      ]
     },
     "execution_count": 24,
     "metadata": {},
     "output_type": "execute_result"
    }
   ],
   "source": [
    "# Traer el primer elemento de la lista\n",
    "marcas_de_carro[0]"
   ]
  },
  {
   "cell_type": "code",
   "execution_count": 25,
   "metadata": {},
   "outputs": [
    {
     "data": {
      "text/plain": [
       "'wolsvagen'"
      ]
     },
     "execution_count": 25,
     "metadata": {},
     "output_type": "execute_result"
    }
   ],
   "source": [
    "# Traer el último elemento de la lista\n",
    "marcas_de_carro[-1]"
   ]
  },
  {
   "cell_type": "code",
   "execution_count": 26,
   "metadata": {},
   "outputs": [
    {
     "name": "stdout",
     "output_type": "stream",
     "text": [
      "['Mazda', 'BMW', 'Chevrolet', 'wolsvagen', 'Renault']\n"
     ]
    }
   ],
   "source": [
    "## Agregar elementos a la lista\n",
    "marcas_de_carro.append(\"Renault\")\n",
    "print(marcas_de_carro)"
   ]
  },
  {
   "cell_type": "code",
   "execution_count": 27,
   "metadata": {},
   "outputs": [
    {
     "data": {
      "text/plain": [
       "[0, 1, 2, 3, 4, 5, 6, 7, 8, 9, 10, 11, 12, 13, 14, 15, 16, 17, 18, 19]"
      ]
     },
     "execution_count": 27,
     "metadata": {},
     "output_type": "execute_result"
    }
   ],
   "source": [
    "## Creando una lista por rangos\n",
    "list(range(20))"
   ]
  },
  {
   "cell_type": "code",
   "execution_count": 30,
   "metadata": {},
   "outputs": [
    {
     "data": {
      "text/plain": [
       "[2, 3, 4, 5, 6, 7, 8, 9, 10, 11, 12, 13, 14, 15, 16, 17, 18, 19, 20]"
      ]
     },
     "execution_count": 30,
     "metadata": {},
     "output_type": "execute_result"
    }
   ],
   "source": [
    "list(range(2,21))"
   ]
  },
  {
   "cell_type": "code",
   "execution_count": 35,
   "metadata": {},
   "outputs": [
    {
     "data": {
      "text/plain": [
       "['Mañana', [0, 3, 6]]"
      ]
     },
     "execution_count": 35,
     "metadata": {},
     "output_type": "execute_result"
    }
   ],
   "source": [
    "## Las listas admiten diferentes tipos de categorías en los datos\n",
    "[\"Mañana\",list(range(0,9,3))]"
   ]
  },
  {
   "cell_type": "code",
   "execution_count": 36,
   "metadata": {},
   "outputs": [
    {
     "data": {
      "text/plain": [
       "19"
      ]
     },
     "execution_count": 36,
     "metadata": {},
     "output_type": "execute_result"
    }
   ],
   "source": [
    "## Mirando el largo de la lista\n",
    "len(list(range(2,21)))"
   ]
  },
  {
   "cell_type": "markdown",
   "metadata": {},
   "source": [
    "## Interaciones en los datos "
   ]
  },
  {
   "cell_type": "code",
   "execution_count": 37,
   "metadata": {},
   "outputs": [],
   "source": [
    "nombres = [\"Alicia\",\"Helena\",\"Julian\",\"David\", \"Andrés\",\"Felipe\"]"
   ]
  },
  {
   "cell_type": "code",
   "execution_count": 38,
   "metadata": {},
   "outputs": [
    {
     "name": "stdout",
     "output_type": "stream",
     "text": [
      "Alicia\n",
      "Helena\n",
      "Julian\n",
      "David\n",
      "Andrés\n",
      "Felipe\n"
     ]
    }
   ],
   "source": [
    "for nombre in nombres :\n",
    "    print(nombre)"
   ]
  },
  {
   "cell_type": "code",
   "execution_count": 40,
   "metadata": {},
   "outputs": [
    {
     "name": "stdout",
     "output_type": "stream",
     "text": [
      "El nombre del estudiante es Alicia\n",
      "El nombre del estudiante es Helena\n",
      "El nombre del estudiante es Julian\n",
      "El nombre del estudiante es David\n",
      "El nombre del estudiante es Andrés\n",
      "El nombre del estudiante es Felipe\n"
     ]
    }
   ],
   "source": [
    "## Ajustanto un poco el for \n",
    "for nombre in nombres :\n",
    "    base = \"El nombre del estudiante es \" + nombre\n",
    "    print(base)"
   ]
  },
  {
   "cell_type": "code",
   "execution_count": 42,
   "metadata": {},
   "outputs": [
    {
     "data": {
      "text/plain": [
       "['Julian', 'David']"
      ]
     },
     "execution_count": 42,
     "metadata": {},
     "output_type": "execute_result"
    }
   ],
   "source": [
    "## Extrayendo dos elementos de una lista\n",
    "nombres[2:4]"
   ]
  },
  {
   "cell_type": "code",
   "execution_count": 44,
   "metadata": {},
   "outputs": [
    {
     "name": "stdout",
     "output_type": "stream",
     "text": [
      "Ali\n"
     ]
    }
   ],
   "source": [
    "# Haciendo Abreviaturas\n",
    "un_nombre = nombres[0]\n",
    "print(un_nombre[:3])"
   ]
  },
  {
   "cell_type": "markdown",
   "metadata": {},
   "source": [
    "## Booleanos"
   ]
  },
  {
   "cell_type": "code",
   "execution_count": 52,
   "metadata": {},
   "outputs": [
    {
     "name": "stdout",
     "output_type": "stream",
     "text": [
      "Es la más joven de los niños  Alicia\n",
      "Helena Es mayor que Alicia\n",
      "Julian Es mayor que Alicia\n",
      "David Es mayor que Alicia\n",
      "Andrés Es mayor que Alicia\n",
      "Felipe Es mayor que Alicia\n"
     ]
    }
   ],
   "source": [
    "for nombre in nombres:\n",
    "    if nombre=='Alicia':\n",
    "        print(\"Es la más joven de los niños \", nombre)\n",
    "    else:\n",
    "        print(nombre,\"Es mayor que Alicia\")\n",
    "    "
   ]
  },
  {
   "cell_type": "markdown",
   "metadata": {},
   "source": [
    "## Verdadero o Falso"
   ]
  },
  {
   "cell_type": "code",
   "execution_count": 53,
   "metadata": {},
   "outputs": [
    {
     "data": {
      "text/plain": [
       "False"
      ]
     },
     "execution_count": 53,
     "metadata": {},
     "output_type": "execute_result"
    }
   ],
   "source": [
    "1==2"
   ]
  },
  {
   "cell_type": "code",
   "execution_count": 57,
   "metadata": {},
   "outputs": [
    {
     "data": {
      "text/plain": [
       "True"
      ]
     },
     "execution_count": 57,
     "metadata": {},
     "output_type": "execute_result"
    }
   ],
   "source": [
    "3*3 == 9"
   ]
  },
  {
   "cell_type": "code",
   "execution_count": 60,
   "metadata": {},
   "outputs": [
    {
     "data": {
      "text/plain": [
       "False"
      ]
     },
     "execution_count": 60,
     "metadata": {},
     "output_type": "execute_result"
    }
   ],
   "source": [
    "[list(range(20))]==[list(range(10))]"
   ]
  },
  {
   "cell_type": "code",
   "execution_count": 61,
   "metadata": {},
   "outputs": [
    {
     "data": {
      "text/plain": [
       "False"
      ]
     },
     "execution_count": 61,
     "metadata": {},
     "output_type": "execute_result"
    }
   ],
   "source": [
    "[list(range(20))]<[list(range(10))]"
   ]
  },
  {
   "cell_type": "code",
   "execution_count": 62,
   "metadata": {},
   "outputs": [
    {
     "data": {
      "text/plain": [
       "True"
      ]
     },
     "execution_count": 62,
     "metadata": {},
     "output_type": "execute_result"
    }
   ],
   "source": [
    "[list(range(20))]>[list(range(10))]"
   ]
  },
  {
   "cell_type": "markdown",
   "metadata": {},
   "source": [
    "## Multiples Condiciones"
   ]
  },
  {
   "cell_type": "code",
   "execution_count": 65,
   "metadata": {},
   "outputs": [
    {
     "name": "stdout",
     "output_type": "stream",
     "text": [
      "Es niño Alicia\n",
      "Es niño Helena\n",
      "Es niño Julian\n",
      "Es niño David\n",
      "Es niño Andrés\n",
      "Es niño Felipe\n"
     ]
    }
   ],
   "source": [
    "for nombre in nombres:\n",
    "    if nombre == [\"Alicia\",\"Helena\"]:\n",
    "        print(\"Es niña \",nombre)\n",
    "    else:\n",
    "        print(\"Es niño\", nombre)"
   ]
  },
  {
   "cell_type": "code",
   "execution_count": 68,
   "metadata": {},
   "outputs": [
    {
     "name": "stdout",
     "output_type": "stream",
     "text": [
      "Es niña y la más peque  Alicia\n",
      "Es niña  Helena\n",
      "Es niño Julian\n",
      "Es niño David\n",
      "Es niño Andrés\n",
      "Es niño Felipe\n"
     ]
    }
   ],
   "source": [
    "for nombre in nombres:\n",
    "    if nombre == \"Helena\":\n",
    "        print(\"Es niña \",nombre)\n",
    "    elif nombre==\"Alicia\":\n",
    "        print(\"Es niña y la más peque \",nombre)\n",
    "    else:\n",
    "        print(\"Es niño\", nombre)"
   ]
  },
  {
   "cell_type": "code",
   "execution_count": 71,
   "metadata": {},
   "outputs": [
    {
     "name": "stdout",
     "output_type": "stream",
     "text": [
      "[0, 1, 1, 2, 3, 5, 8, 13, 21, 34]\n"
     ]
    }
   ],
   "source": [
    "## Un ejemplo muy Geek\n",
    "n = 10\n",
    "secuencia = [0,1]\n",
    "for i in range(2,n):\n",
    "    secuencia.append(secuencia[i-1]+secuencia[i-2])\n",
    "print(secuencia)"
   ]
  }
 ],
 "metadata": {
  "kernelspec": {
   "display_name": "Python 3",
   "language": "python",
   "name": "python3"
  },
  "language_info": {
   "codemirror_mode": {
    "name": "ipython",
    "version": 3
   },
   "file_extension": ".py",
   "mimetype": "text/x-python",
   "name": "python",
   "nbconvert_exporter": "python",
   "pygments_lexer": "ipython3",
   "version": "3.7.6"
  }
 },
 "nbformat": 4,
 "nbformat_minor": 4
}
